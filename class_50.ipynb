{
 "cells": [
  {
   "cell_type": "code",
   "execution_count": 1,
   "metadata": {},
   "outputs": [],
   "source": [
    "import numpy as np\n",
    "import os\n",
    "import sys\n",
    "from fractions import gcd\n",
    "from numbers import Number\n",
    "\n",
    "import torch\n",
    "from torch import Tensor, nn\n",
    "from torch.nn import functional as F\n",
    "\n",
    "from data import ArgoDataset, collate_fn\n",
    "from utils import gpu, to_long,  Optimizer, StepLR\n",
    "\n",
    "from layers import Conv1d, Res1d, Linear, LinearRes, Null\n",
    "from numpy import float64, ndarray\n",
    "from typing import Any, Callable, Dict, List, Optional, Tuple, Type, Union\n",
    "\n",
    "from lanegcn import PredNet, get_model\n",
    "import torch\n",
    "from torch.utils.data import Sampler, DataLoader\n",
    "\n",
    "import matplotlib.pyplot as plt\n",
    "\n",
    "config, Dataset, collate_fn, net, loss, post_process, opt = get_model()\n",
    "import os\n",
    "\n",
    "import argparse\n",
    "import numpy as np\n",
    "import random\n",
    "import sys\n",
    "import time\n",
    "import shutil\n",
    "from importlib import import_module\n",
    "from numbers import Number\n",
    "import math\n",
    "import torch\n",
    "from torch.utils.data import Sampler, DataLoader\n",
    "\n",
    "\n",
    "from utils import Logger, load_pretrain\n",
    "\n",
    "import seaborn as sns\n",
    "sns.set()\n",
    "plt.rcParams['figure.figsize'] = (12,12)\n",
    "\n",
    "\n",
    "\n",
    "\n",
    "def worker_init_fn(pid):\n",
    "    np_seed = int(pid)\n",
    "    np.random.seed(np_seed)\n",
    "    random_seed = np.random.randint(2 ** 32 - 1)\n",
    "    random.seed(random_seed)\n",
    "\n",
    "\n",
    "dataset = Dataset(config[\"train_split\"], config, train=True)\n",
    "train_loader = DataLoader(\n",
    "    dataset,\n",
    "    batch_size=config[\"batch_size\"],\n",
    "    num_workers=config[\"workers\"],\n",
    "    shuffle=False,\n",
    "    collate_fn=collate_fn,\n",
    "    pin_memory=True,\n",
    "    worker_init_fn=worker_init_fn,\n",
    "    drop_last=True,\n",
    ")"
   ]
  },
  {
   "cell_type": "code",
   "execution_count": 32,
   "metadata": {},
   "outputs": [],
   "source": [
    "trajectory_set = []\n",
    "for k, data in enumerate(train_loader): \n",
    "    for i in range(len(data['trajs2'])):   # i: 0-32\n",
    "        trajs2_list = []\n",
    "        trajs2 = data['trajs2'][i].clone()\n",
    "        for j in range(len(data['trajs2'][i])):  # j: 0-9\n",
    "            trajs_raw = data['trajs2'][i][j]\n",
    "            flag_sum = trajs_raw[:,2].sum()\n",
    "            # print(i,j)\n",
    "            if flag_sum == 50:\n",
    "                orig = trajs2[j][19]\n",
    "                pre = trajs2[j][15] - orig\n",
    "                theta = np.pi - np.arctan2(pre[1], pre[0])\n",
    "                rot = np.asarray([\n",
    "                    [np.cos(theta), -np.sin(theta)],\n",
    "                    [np.sin(theta), np.cos(theta)]], np.float32)\n",
    "                trajs2[j][:,:2] = np.matmul(rot, (trajs2[j] - orig)[:,:2].T).T\n",
    "                trajs2[j][:, 2] = 1.0\n",
    "\n",
    "                trajectory_set.append(trajs2[j][:,:2])\n",
    "                trajs2_list.append(trajs_raw.unsqueeze(1))\n",
    "\n",
    "        data['trajs2'][i] = torch.cat(trajs2_list, dim=1).permute(1,0,2)\n"
   ]
  },
  {
   "cell_type": "code",
   "execution_count": 8,
   "metadata": {},
   "outputs": [],
   "source": [
    "degree_threshold = 5\n",
    "\n",
    "for traj_index, traj in enumerate(trajectory_set):\n",
    "    hold_index_lst = []\n",
    "    previous_azimuth = 1000\n",
    "\n",
    "    for point_index, point in enumerate(traj[:-1]):\n",
    "        next_point = traj[point_index + 1]\n",
    "        diff_vector = next_point - point \n",
    "        azimuth = (math.degrees(math.atan2(*diff_vector) + 360) % 360)\n",
    "\n",
    "        if abs(azimuth - previous_azimuth) > degree_threshold:\n",
    "            hold_index_lst.append(point_index)\n",
    "            previous_azimuth = azimuth\n",
    "\n",
    "    hold_index_lst.append(traj.shape[0] - 1)\n",
    "\n",
    "    trajectory_set[traj_index] = traj[hold_index_lst, :]\n",
    "\n",
    "\n",
    "from scipy.spatial.distance import directed_hausdorff \n",
    "\n",
    "def hausdorff(u,v):\n",
    "    d = max(directed_hausdorff(u, v)[0], directed_hausdorff(v, u)[0])\n",
    "    return d"
   ]
  },
  {
   "cell_type": "code",
   "execution_count": 9,
   "metadata": {},
   "outputs": [],
   "source": [
    "traj_count = len(trajectory_set)\n",
    "D = np.zeros((traj_count, traj_count))\n",
    "\n",
    "for i in range(traj_count):\n",
    "    for j in range(i+1, traj_count):\n",
    "        distance = hausdorff(trajectory_set[i], trajectory_set[j])\n",
    "        D[i, j] = distance\n",
    "        D[j, i] = distance\n"
   ]
  },
  {
   "cell_type": "code",
   "execution_count": 10,
   "metadata": {},
   "outputs": [],
   "source": [
    "def plot_cluster(trajectory_set, cluster_lst):\n",
    "    \n",
    "    cluster_count = np.max(cluster_lst) + 1\n",
    "    plt.gca().set_aspect(1)\n",
    "    plt.xlim(-40,50)\n",
    "    plt.ylim(-10,10)\n",
    "    for traj, cluster in zip(trajectory_set, cluster_lst):\n",
    "        if cluster == -1:\n",
    "            plt.plot(traj[:,0], traj[:,1], c='k', linestyle='dashed')\n",
    "        else:\n",
    "            plt.plot(traj[:,0], traj[:,1], c=color_lst[cluster % len(color_lst)])\n",
    "    plt.savefig('./cluster_mini_50.eps')\n",
    "    plt.show()\n",
    "\n",
    "def kMedoids(D, k, tmax=100):\n",
    "    # determine dimensions of distance martrix D\n",
    "    m, n = D.shape\n",
    "\n",
    "    np.fill_diagonal(D, math.inf)\n",
    "\n",
    "    M = np.arange(n)\n",
    "    np.random.shuffle(M)\n",
    "    M = np.sort(M[:k])\n",
    "\n",
    "    Mnew = np.copy(M)\n",
    "\n",
    "    C = {}\n",
    "\n",
    "    for t in range(tmax):\n",
    "        J = np.argmin(D[:,M], axis=1)\n",
    "\n",
    "        for kappa in range(k):\n",
    "            C[kappa] = np.where(J==kappa)[0]\n",
    "\n",
    "        for kappa in range(k):\n",
    "            J = np.mean(D[np.ix_(C[kappa], C[kappa])], axis=1)\n",
    "            j = np.argmin(J)\n",
    "            Mnew[kappa] = C[kappa][j]\n",
    "\n",
    "        np.sort(Mnew)\n",
    "\n",
    "        if np.array_equal(M, Mnew):\n",
    "            break\n",
    "        M = np.copy(Mnew)\n",
    "\n",
    "    else:\n",
    "        J = np.argmin(D[:,M], axis=1)\n",
    "        for kappa in range(k):\n",
    "            C[kappa] = np.where(J==kappa)[0]\n",
    "\n",
    "    np.fill_diagonal(D, 0)\n",
    "\n",
    "    return M, C"
   ]
  },
  {
   "cell_type": "code",
   "execution_count": 11,
   "metadata": {},
   "outputs": [
    {
     "data": {
      "image/png": "[encoded data removed]",
      "text/plain": [
       "<Figure size 432x288 with 1 Axes>"
      ]
     },
     "metadata": {
      "needs_background": "light"
     },
     "output_type": "display_data"
    }
   ],
   "source": [
    "k = 4\n",
    "method_center_lst, cluster2index_lst = kMedoids(D, k)\n",
    "\n",
    "color_lst = plt.rcParams['axes.prop_cycle'].by_key()['color']\n",
    "color_lst.extend(['firebrick', 'olive', 'indigo', 'khaki', 'teal', 'saddlebrown',\n",
    "                  'skyblue', 'coral', 'darkorange', 'lime', 'darkkorchid', 'dimgray'])\n",
    "\n",
    "\n",
    "\n",
    "cluster_lst = np.empty((traj_count), dtype=int)\n",
    "\n",
    "for cluster in cluster2index_lst:\n",
    "    cluster_lst[cluster2index_lst[cluster]] = cluster\n",
    "\n",
    "plot_cluster(trajectory_set, cluster_lst)"
   ]
  },
  {
   "cell_type": "code",
   "execution_count": 14,
   "metadata": {},
   "outputs": [],
   "source": [
    "np.save('./class_50', cluster_lst)"
   ]
  },
  {
   "cell_type": "code",
   "execution_count": 35,
   "metadata": {},
   "outputs": [
    {
     "name": "stdout",
     "output_type": "stream",
     "text": [
      "893 893\n"
     ]
    }
   ],
   "source": [
    "print(len(cluster_lst), len(trajectory_set))"
   ]
  },
  {
   "cell_type": "code",
   "execution_count": 45,
   "metadata": {},
   "outputs": [],
   "source": [
    "traj_style0, traj_style1, traj_style2, traj_style3 = [],[],[],[]\n",
    "m = 0\n",
    "for i in range(len(trajectory_set)):\n",
    "    if cluster_lst[i] == 0:\n",
    "        m += 1\n",
    "        traj_style0.append(trajectory_set[i].unsqueeze(1))\n",
    "\n",
    "    if cluster_lst[i] == 1:\n",
    "        traj_style1.append(trajectory_set[i].unsqueeze(1))\n",
    "\n",
    "    if cluster_lst[i] == 2:\n",
    "        traj_style2.append(trajectory_set[i].unsqueeze(1))\n",
    "    \n",
    "    if cluster_lst[i] == 3:\n",
    "        traj_style3.append(trajectory_set[i].unsqueeze(1))\n",
    "\n",
    "traj_style0 = torch.cat(traj_style0, dim=1)\n",
    "traj_style0 = traj_style0.permute(1, 2, 0)\n",
    "traj_style1 = torch.cat(traj_style1, dim=1)\n",
    "traj_style1 = traj_style1.permute(1, 2, 0)\n",
    "traj_style2 = torch.cat(traj_style2, dim=1)\n",
    "traj_style2 = traj_style2.permute(1, 2, 0)\n",
    "traj_style3 = torch.cat(traj_style3, dim=1)\n",
    "traj_style3 = traj_style3.permute(1, 2, 0)"
   ]
  },
  {
   "cell_type": "code",
   "execution_count": 51,
   "metadata": {},
   "outputs": [],
   "source": [
    "torch.save(traj_style0, './style0.pth')\n",
    "torch.save(traj_style1, './style1.pth')\n",
    "torch.save(traj_style2, './style2.pth')\n",
    "torch.save(traj_style3, './style3.pth')"
   ]
  },
  {
   "cell_type": "code",
   "execution_count": 50,
   "metadata": {},
   "outputs": [
    {
     "data": {
      "text/plain": [
       "torch.Size([403, 2, 50])"
      ]
     },
     "execution_count": 50,
     "metadata": {},
     "output_type": "execute_result"
    }
   ],
   "source": [
    "traj_style0 = torch.load('./style0.pth')\n",
    "traj_style0.size()"
   ]
  },
  {
   "cell_type": "code",
   "execution_count": 21,
   "metadata": {},
   "outputs": [],
   "source": [
    "from lanegcn1 import actor_gather\n",
    "def get_pred_traj_rel(trajs2):\n",
    "    pred_traj_rel0, actor_idcs = actor_gather(trajs2)\n",
    "    pred_traj_rel = pred_traj_rel0[:,:2]\n",
    "    return pred_traj_rel\n",
    "\n",
    "pred_traj_rel = get_pred_traj_rel(data['trajs2'])"
   ]
  },
  {
   "cell_type": "code",
   "execution_count": 23,
   "metadata": {},
   "outputs": [
    {
     "data": {
      "text/plain": [
       "torch.Size([301, 2, 50])"
      ]
     },
     "execution_count": 23,
     "metadata": {},
     "output_type": "execute_result"
    }
   ],
   "source": [
    "pred_traj_rel.size()"
   ]
  }
 ],
 "metadata": {
  "kernelspec": {
   "display_name": "Python 3.7.0 ('lanegcn')",
   "language": "python",
   "name": "python3"
  },
  "language_info": {
   "codemirror_mode": {
    "name": "ipython",
    "version": 3
   },
   "file_extension": ".py",
   "mimetype": "text/x-python",
   "name": "python",
   "nbconvert_exporter": "python",
   "pygments_lexer": "ipython3",
   "version": "3.7.0"
  },
  "orig_nbformat": 4,
  "vscode": {
   "interpreter": {
    "hash": "07e1035589aed84bd7169a62ca865480aa9cea1eaec18b5fbc2b7aab1975a44f"
   }
  }
 },
 "nbformat": 4,
 "nbformat_minor": 2
}
