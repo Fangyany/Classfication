{
 "cells": [
  {
   "cell_type": "code",
   "execution_count": 1,
   "metadata": {},
   "outputs": [],
   "source": [
    "from lanegcn import ActorNet, actor_gather\n",
    "import os\n",
    "import argparse\n",
    "import numpy as np\n",
    "import random\n",
    "import sys\n",
    "import time\n",
    "import shutil\n",
    "from importlib import import_module\n",
    "from numbers import Number\n",
    "import torch\n",
    "from torch.utils.data import Sampler, DataLoader\n",
    "from utils import Logger, load_pretrain\n",
    "from lanegcn import get_model\n",
    "from argoverse.data_loading.argoverse_forecasting_loader import ArgoverseForecastingLoader\n",
    "from argoverse.map_representation.map_api import ArgoverseMap\n",
    "import numpy as np\n",
    "import torch\n",
    "from torch.utils.data import Dataset\n",
    "from scipy import sparse\n",
    "import os\n",
    "import copy\n",
    "from argoverse.data_loading.argoverse_forecasting_loader import ArgoverseForecastingLoader\n",
    "from argoverse.map_representation.map_api import ArgoverseMap\n",
    "from skimage.transform import rotate\n",
    "\n",
    "config, Dataset, collate_fn, net, loss, post_process, opt = get_model()"
   ]
  },
  {
   "cell_type": "code",
   "execution_count": 2,
   "metadata": {},
   "outputs": [],
   "source": [
    "avl = ArgoverseForecastingLoader('./dataset/train_mini/data')"
   ]
  },
  {
   "cell_type": "code",
   "execution_count": 3,
   "metadata": {},
   "outputs": [
    {
     "name": "stdout",
     "output_type": "stream",
     "text": [
      "Seq : /home/yan/GraghGAN/dataset/train_mini/data/64.csv\n",
      "        ----------------------\n",
      "        || City: MIA\n",
      "        || # Tracks: 12\n",
      "        ----------------------\n"
     ]
    }
   ],
   "source": [
    "print(avl)"
   ]
  },
  {
   "cell_type": "code",
   "execution_count": 4,
   "metadata": {},
   "outputs": [
    {
     "name": "stdout",
     "output_type": "stream",
     "text": [
      "[PosixPath('/home/yan/GraghGAN/dataset/train_mini/data/1.csv'), PosixPath('/home/yan/GraghGAN/dataset/train_mini/data/10.csv'), PosixPath('/home/yan/GraghGAN/dataset/train_mini/data/101.csv'), PosixPath('/home/yan/GraghGAN/dataset/train_mini/data/103.csv'), PosixPath('/home/yan/GraghGAN/dataset/train_mini/data/104.csv'), PosixPath('/home/yan/GraghGAN/dataset/train_mini/data/105.csv'), PosixPath('/home/yan/GraghGAN/dataset/train_mini/data/106.csv'), PosixPath('/home/yan/GraghGAN/dataset/train_mini/data/107.csv'), PosixPath('/home/yan/GraghGAN/dataset/train_mini/data/108.csv'), PosixPath('/home/yan/GraghGAN/dataset/train_mini/data/109.csv'), PosixPath('/home/yan/GraghGAN/dataset/train_mini/data/110.csv'), PosixPath('/home/yan/GraghGAN/dataset/train_mini/data/111.csv'), PosixPath('/home/yan/GraghGAN/dataset/train_mini/data/112.csv'), PosixPath('/home/yan/GraghGAN/dataset/train_mini/data/113.csv'), PosixPath('/home/yan/GraghGAN/dataset/train_mini/data/115.csv'), PosixPath('/home/yan/GraghGAN/dataset/train_mini/data/118.csv'), PosixPath('/home/yan/GraghGAN/dataset/train_mini/data/119.csv'), PosixPath('/home/yan/GraghGAN/dataset/train_mini/data/12.csv'), PosixPath('/home/yan/GraghGAN/dataset/train_mini/data/120.csv'), PosixPath('/home/yan/GraghGAN/dataset/train_mini/data/121.csv'), PosixPath('/home/yan/GraghGAN/dataset/train_mini/data/123.csv'), PosixPath('/home/yan/GraghGAN/dataset/train_mini/data/124.csv'), PosixPath('/home/yan/GraghGAN/dataset/train_mini/data/125.csv'), PosixPath('/home/yan/GraghGAN/dataset/train_mini/data/126.csv'), PosixPath('/home/yan/GraghGAN/dataset/train_mini/data/127.csv'), PosixPath('/home/yan/GraghGAN/dataset/train_mini/data/128.csv'), PosixPath('/home/yan/GraghGAN/dataset/train_mini/data/132.csv'), PosixPath('/home/yan/GraghGAN/dataset/train_mini/data/133.csv'), PosixPath('/home/yan/GraghGAN/dataset/train_mini/data/136.csv'), PosixPath('/home/yan/GraghGAN/dataset/train_mini/data/137.csv'), PosixPath('/home/yan/GraghGAN/dataset/train_mini/data/139.csv'), PosixPath('/home/yan/GraghGAN/dataset/train_mini/data/140.csv'), PosixPath('/home/yan/GraghGAN/dataset/train_mini/data/141.csv'), PosixPath('/home/yan/GraghGAN/dataset/train_mini/data/143.csv'), PosixPath('/home/yan/GraghGAN/dataset/train_mini/data/144.csv'), PosixPath('/home/yan/GraghGAN/dataset/train_mini/data/145.csv'), PosixPath('/home/yan/GraghGAN/dataset/train_mini/data/146.csv'), PosixPath('/home/yan/GraghGAN/dataset/train_mini/data/148.csv'), PosixPath('/home/yan/GraghGAN/dataset/train_mini/data/149.csv'), PosixPath('/home/yan/GraghGAN/dataset/train_mini/data/15.csv'), PosixPath('/home/yan/GraghGAN/dataset/train_mini/data/150.csv'), PosixPath('/home/yan/GraghGAN/dataset/train_mini/data/151.csv'), PosixPath('/home/yan/GraghGAN/dataset/train_mini/data/152.csv'), PosixPath('/home/yan/GraghGAN/dataset/train_mini/data/16.csv'), PosixPath('/home/yan/GraghGAN/dataset/train_mini/data/17.csv'), PosixPath('/home/yan/GraghGAN/dataset/train_mini/data/19.csv'), PosixPath('/home/yan/GraghGAN/dataset/train_mini/data/20.csv'), PosixPath('/home/yan/GraghGAN/dataset/train_mini/data/21.csv'), PosixPath('/home/yan/GraghGAN/dataset/train_mini/data/22.csv'), PosixPath('/home/yan/GraghGAN/dataset/train_mini/data/24.csv'), PosixPath('/home/yan/GraghGAN/dataset/train_mini/data/25.csv'), PosixPath('/home/yan/GraghGAN/dataset/train_mini/data/3.csv'), PosixPath('/home/yan/GraghGAN/dataset/train_mini/data/30.csv'), PosixPath('/home/yan/GraghGAN/dataset/train_mini/data/31.csv'), PosixPath('/home/yan/GraghGAN/dataset/train_mini/data/32.csv'), PosixPath('/home/yan/GraghGAN/dataset/train_mini/data/33.csv'), PosixPath('/home/yan/GraghGAN/dataset/train_mini/data/34.csv'), PosixPath('/home/yan/GraghGAN/dataset/train_mini/data/35.csv'), PosixPath('/home/yan/GraghGAN/dataset/train_mini/data/36.csv'), PosixPath('/home/yan/GraghGAN/dataset/train_mini/data/37.csv'), PosixPath('/home/yan/GraghGAN/dataset/train_mini/data/38.csv'), PosixPath('/home/yan/GraghGAN/dataset/train_mini/data/39.csv'), PosixPath('/home/yan/GraghGAN/dataset/train_mini/data/4.csv'), PosixPath('/home/yan/GraghGAN/dataset/train_mini/data/40.csv'), PosixPath('/home/yan/GraghGAN/dataset/train_mini/data/41.csv'), PosixPath('/home/yan/GraghGAN/dataset/train_mini/data/42.csv'), PosixPath('/home/yan/GraghGAN/dataset/train_mini/data/44.csv'), PosixPath('/home/yan/GraghGAN/dataset/train_mini/data/47.csv'), PosixPath('/home/yan/GraghGAN/dataset/train_mini/data/48.csv'), PosixPath('/home/yan/GraghGAN/dataset/train_mini/data/50.csv'), PosixPath('/home/yan/GraghGAN/dataset/train_mini/data/52.csv'), PosixPath('/home/yan/GraghGAN/dataset/train_mini/data/53.csv'), PosixPath('/home/yan/GraghGAN/dataset/train_mini/data/54.csv'), PosixPath('/home/yan/GraghGAN/dataset/train_mini/data/57.csv'), PosixPath('/home/yan/GraghGAN/dataset/train_mini/data/58.csv'), PosixPath('/home/yan/GraghGAN/dataset/train_mini/data/59.csv'), PosixPath('/home/yan/GraghGAN/dataset/train_mini/data/6.csv'), PosixPath('/home/yan/GraghGAN/dataset/train_mini/data/60.csv'), PosixPath('/home/yan/GraghGAN/dataset/train_mini/data/63.csv'), PosixPath('/home/yan/GraghGAN/dataset/train_mini/data/64.csv'), PosixPath('/home/yan/GraghGAN/dataset/train_mini/data/65.csv'), PosixPath('/home/yan/GraghGAN/dataset/train_mini/data/66.csv'), PosixPath('/home/yan/GraghGAN/dataset/train_mini/data/68.csv'), PosixPath('/home/yan/GraghGAN/dataset/train_mini/data/69.csv'), PosixPath('/home/yan/GraghGAN/dataset/train_mini/data/7.csv'), PosixPath('/home/yan/GraghGAN/dataset/train_mini/data/70.csv'), PosixPath('/home/yan/GraghGAN/dataset/train_mini/data/73.csv'), PosixPath('/home/yan/GraghGAN/dataset/train_mini/data/74.csv'), PosixPath('/home/yan/GraghGAN/dataset/train_mini/data/75.csv'), PosixPath('/home/yan/GraghGAN/dataset/train_mini/data/77.csv'), PosixPath('/home/yan/GraghGAN/dataset/train_mini/data/78.csv'), PosixPath('/home/yan/GraghGAN/dataset/train_mini/data/8.csv'), PosixPath('/home/yan/GraghGAN/dataset/train_mini/data/80.csv'), PosixPath('/home/yan/GraghGAN/dataset/train_mini/data/81.csv'), PosixPath('/home/yan/GraghGAN/dataset/train_mini/data/82.csv'), PosixPath('/home/yan/GraghGAN/dataset/train_mini/data/83.csv'), PosixPath('/home/yan/GraghGAN/dataset/train_mini/data/85.csv'), PosixPath('/home/yan/GraghGAN/dataset/train_mini/data/86.csv'), PosixPath('/home/yan/GraghGAN/dataset/train_mini/data/87.csv'), PosixPath('/home/yan/GraghGAN/dataset/train_mini/data/88.csv'), PosixPath('/home/yan/GraghGAN/dataset/train_mini/data/89.csv'), PosixPath('/home/yan/GraghGAN/dataset/train_mini/data/90.csv'), PosixPath('/home/yan/GraghGAN/dataset/train_mini/data/91.csv'), PosixPath('/home/yan/GraghGAN/dataset/train_mini/data/92.csv'), PosixPath('/home/yan/GraghGAN/dataset/train_mini/data/93.csv'), PosixPath('/home/yan/GraghGAN/dataset/train_mini/data/94.csv'), PosixPath('/home/yan/GraghGAN/dataset/train_mini/data/95.csv'), PosixPath('/home/yan/GraghGAN/dataset/train_mini/data/96.csv'), PosixPath('/home/yan/GraghGAN/dataset/train_mini/data/97.csv'), PosixPath('/home/yan/GraghGAN/dataset/train_mini/data/99.csv')]\n"
     ]
    }
   ],
   "source": [
    "avl.seq_list = sorted(avl.seq_list)\n",
    "print(avl.seq_list)"
   ]
  },
  {
   "cell_type": "code",
   "execution_count": 5,
   "metadata": {},
   "outputs": [
    {
     "name": "stdout",
     "output_type": "stream",
     "text": [
      "Seq : /home/yan/GraghGAN/dataset/train_mini/data/1.csv\n",
      "        ----------------------\n",
      "        || City: PIT\n",
      "        || # Tracks: 12\n",
      "        ----------------------\n",
      "Seq : /home/yan/GraghGAN/dataset/train_mini/data/10.csv\n",
      "        ----------------------\n",
      "        || City: MIA\n",
      "        || # Tracks: 101\n",
      "        ----------------------\n"
     ]
    }
   ],
   "source": [
    "print(avl[0])\n",
    "print(avl[1])"
   ]
  },
  {
   "cell_type": "code",
   "execution_count": 6,
   "metadata": {},
   "outputs": [],
   "source": [
    "import os\n",
    "\n",
    "import argparse\n",
    "import numpy as np\n",
    "import random\n",
    "import sys\n",
    "import time\n",
    "import shutil\n",
    "from importlib import import_module\n",
    "from numbers import Number\n",
    "\n",
    "import torch\n",
    "from torch.utils.data import Sampler, DataLoader\n",
    "\n",
    "\n",
    "from utils import Logger, load_pretrain\n",
    "import matplotlib.pyplot as plt\n",
    "from lanegcn import get_model"
   ]
  },
  {
   "cell_type": "code",
   "execution_count": 7,
   "metadata": {},
   "outputs": [],
   "source": [
    "config, Dataset, collate_fn, net, loss, post_process, opt = get_model()"
   ]
  },
  {
   "cell_type": "code",
   "execution_count": 8,
   "metadata": {},
   "outputs": [],
   "source": [
    "def worker_init_fn(pid):\n",
    "    np_seed = int(pid)\n",
    "    np.random.seed(np_seed)\n",
    "    random_seed = np.random.randint(2 ** 32 - 1)\n",
    "    random.seed(random_seed)\n",
    "\n",
    "dataset = Dataset('./dataset/preprocess/train_crs_dist6_angle90.p', config, train=True)\n",
    "train_loader = DataLoader(\n",
    "        dataset,\n",
    "        batch_size=config[\"batch_size\"],\n",
    "        num_workers=config[\"workers\"],\n",
    "        shuffle=False,   # True: At each epoch, reorder the data\n",
    "        collate_fn=collate_fn,\n",
    "        pin_memory=True,\n",
    "        worker_init_fn=worker_init_fn,   # The next 36 were thrown away\n",
    "        drop_last=True,\n",
    "    )"
   ]
  },
  {
   "cell_type": "code",
   "execution_count": 9,
   "metadata": {},
   "outputs": [
    {
     "name": "stdout",
     "output_type": "stream",
     "text": [
      "dict_keys(['city', 'orig', 'gt_preds', 'has_preds', 'theta', 'rot', 'feats', 'ctrs', 'graph', 'trajs2', 'traj1'])\n"
     ]
    }
   ],
   "source": [
    "data = {}\n",
    "for i, data in enumerate(train_loader):\n",
    "    data = dict(data)\n",
    "    break\n",
    "\n",
    "\n",
    "print(data.keys())"
   ]
  },
  {
   "cell_type": "markdown",
   "metadata": {},
   "source": [
    "LaneGCN"
   ]
  },
  {
   "cell_type": "code",
   "execution_count": 10,
   "metadata": {},
   "outputs": [],
   "source": [
    "import numpy as np\n",
    "import os\n",
    "import sys\n",
    "from fractions import gcd\n",
    "from numbers import Number\n",
    "\n",
    "import torch\n",
    "from torch import Tensor, nn\n",
    "from torch.nn import functional as F\n",
    "\n",
    "from data import ArgoDataset, collate_fn\n",
    "from utils import gpu, to_long,  Optimizer, StepLR\n",
    "\n",
    "from layers import Conv1d, Res1d, Linear, LinearRes, Null\n",
    "from numpy import float64, ndarray\n",
    "from typing import Any, Callable, Dict, List, Optional, Tuple, Type, Union\n",
    "from lanegcn import ActorNet, PredNet, MapNet, A2A, A2M, M2A, M2M, graph_gather, actor_gather\n",
    "pred_net = PredNet(config)\n",
    "\n",
    "actor_net = ActorNet(config)\n",
    "map_net = MapNet(config)\n",
    "a2m = A2M(config)\n",
    "m2m = M2M(config)\n",
    "m2a = M2A(config)\n",
    "a2a = A2A(config)\n",
    "\n",
    "# construct actor feature\n",
    "actors, actor_idcs = actor_gather(data[\"feats\"])\n",
    "actor_ctrs = data[\"ctrs\"]\n",
    "actors = actor_net(actors)\n",
    "# construct map features\n",
    "graph = graph_gather(to_long(data[\"graph\"]))\n",
    "nodes, node_idcs, node_ctrs = map_net(graph)\n",
    "nodes = a2m(nodes, graph, actors, actor_idcs, actor_ctrs)\n",
    "nodes = m2m(nodes, graph)\n",
    "actors = m2a(actors, actor_idcs, actor_ctrs, nodes, node_idcs, node_ctrs)\n",
    "actors = a2a(actors, actor_idcs, actor_ctrs)\n",
    "\n",
    "# prediction\n",
    "out = pred_net(actors, actor_idcs, actor_ctrs)\n",
    "rot, orig = data[\"rot\"], data[\"orig\"]"
   ]
  },
  {
   "cell_type": "code",
   "execution_count": 11,
   "metadata": {},
   "outputs": [
    {
     "name": "stdout",
     "output_type": "stream",
     "text": [
      "dict_keys(['cls', 'reg'])\n",
      "32\n",
      "torch.Size([6, 6, 30, 2])\n",
      "torch.Size([30, 2])\n",
      "tensor([[-1.0667, -1.7961],\n",
      "        [ 0.4955,  1.1804],\n",
      "        [-0.0115,  2.0610],\n",
      "        [-2.4449, -0.2403],\n",
      "        [ 0.1645, -0.4246],\n",
      "        [-1.2254,  0.5454],\n",
      "        [ 0.6068, -0.9615],\n",
      "        [ 1.1911,  0.3064],\n",
      "        [ 1.0456,  1.6346],\n",
      "        [ 0.8621,  0.7337],\n",
      "        [ 0.9300, -2.4808],\n",
      "        [-0.8044,  0.7979],\n",
      "        [-2.1744, -1.8781],\n",
      "        [-2.7978,  0.2449],\n",
      "        [ 0.7788,  0.4055],\n",
      "        [ 0.7925, -0.2807],\n",
      "        [-0.8717, -0.9385],\n",
      "        [ 2.5240,  1.2371],\n",
      "        [-0.2957,  0.6015],\n",
      "        [-0.0301, -1.0615],\n",
      "        [-1.1521, -2.2331],\n",
      "        [ 0.7191,  0.1902],\n",
      "        [-1.7164, -0.1202],\n",
      "        [-0.4569,  1.4640],\n",
      "        [-1.6377, -0.4001],\n",
      "        [-2.8624, -0.4231],\n",
      "        [ 0.2273,  0.7935],\n",
      "        [ 0.6788, -0.0287],\n",
      "        [ 2.8332, -0.3055],\n",
      "        [ 1.5167, -0.4761]], grad_fn=<SelectBackward>)\n"
     ]
    },
    {
     "data": {
      "text/plain": [
       "<matplotlib.collections.PathCollection at 0x7fa7ed637e80>"
      ]
     },
     "execution_count": 11,
     "metadata": {},
     "output_type": "execute_result"
    },
    {
     "data": {
      "image/png": "[encoded data removed]",
      "text/plain": [
       "<Figure size 432x288 with 1 Axes>"
      ]
     },
     "metadata": {
      "needs_background": "light"
     },
     "output_type": "display_data"
    }
   ],
   "source": [
    "print(out.keys())\n",
    "print(len(out['reg']))\n",
    "print(out['reg'][0].size())   # reg_size = n_actors, 6, 30, 2\n",
    "\n",
    "reg_a0_k0 = out['reg'][0][0][0]\n",
    "print(reg_a0_k0.size())\n",
    "print(reg_a0_k0)\n",
    "plt.scatter(reg_a0_k0.detach().numpy()[:,0], reg_a0_k0.detach().numpy()[:,1])"
   ]
  },
  {
   "cell_type": "code",
   "execution_count": 12,
   "metadata": {},
   "outputs": [
    {
     "name": "stdout",
     "output_type": "stream",
     "text": [
      "torch.Size([6, 20, 3])\n",
      "(30, 2)\n"
     ]
    }
   ],
   "source": [
    "traj1 = data['traj1'][0]\n",
    "print(traj1.size())\n",
    "traj_obs = traj1[0][:,:2]\n",
    "print(reg_a0_k0.detach().numpy().shape)"
   ]
  },
  {
   "cell_type": "code",
   "execution_count": 13,
   "metadata": {},
   "outputs": [
    {
     "name": "stdout",
     "output_type": "stream",
     "text": [
      "tensor([[-2.9350e+01,  6.9829e-01],\n",
      "        [-2.7669e+01,  6.1824e-01],\n",
      "        [-2.5916e+01,  6.1834e-01],\n",
      "        [-2.4357e+01,  5.5848e-01],\n",
      "        [-2.2825e+01,  5.2700e-01],\n",
      "        [-2.1702e+01,  4.6982e-01],\n",
      "        [-1.9933e+01,  5.3166e-01],\n",
      "        [-1.8591e+01,  4.0418e-01],\n",
      "        [-1.6941e+01,  4.2177e-01],\n",
      "        [-1.5494e+01,  3.2554e-01],\n",
      "        [-1.3866e+01,  3.1888e-01],\n",
      "        [-1.2298e+01,  3.3105e-01],\n",
      "        [-1.0726e+01,  2.0914e-01],\n",
      "        [-9.3659e+00,  2.3968e-01],\n",
      "        [-7.7486e+00,  1.7806e-01],\n",
      "        [-6.1332e+00,  1.8612e-01],\n",
      "        [-4.6353e+00,  7.5501e-02],\n",
      "        [-2.7170e+00,  6.0393e-02],\n",
      "        [-1.5915e+00,  3.3193e-08],\n",
      "        [ 1.0266e-05, -1.8155e-06]])\n",
      "tensor([[-1.0667, -1.7961],\n",
      "        [ 0.4955,  1.1804],\n",
      "        [-0.0115,  2.0610],\n",
      "        [-2.4449, -0.2403],\n",
      "        [ 0.1645, -0.4246],\n",
      "        [-1.2254,  0.5454],\n",
      "        [ 0.6068, -0.9615],\n",
      "        [ 1.1911,  0.3064],\n",
      "        [ 1.0456,  1.6346],\n",
      "        [ 0.8621,  0.7337],\n",
      "        [ 0.9300, -2.4808],\n",
      "        [-0.8044,  0.7979],\n",
      "        [-2.1744, -1.8781],\n",
      "        [-2.7978,  0.2449],\n",
      "        [ 0.7788,  0.4055],\n",
      "        [ 0.7925, -0.2807],\n",
      "        [-0.8717, -0.9385],\n",
      "        [ 2.5240,  1.2371],\n",
      "        [-0.2957,  0.6015],\n",
      "        [-0.0301, -1.0615],\n",
      "        [-1.1521, -2.2331],\n",
      "        [ 0.7191,  0.1902],\n",
      "        [-1.7164, -0.1202],\n",
      "        [-0.4569,  1.4640],\n",
      "        [-1.6377, -0.4001],\n",
      "        [-2.8624, -0.4231],\n",
      "        [ 0.2273,  0.7935],\n",
      "        [ 0.6788, -0.0287],\n",
      "        [ 2.8332, -0.3055],\n",
      "        [ 1.5167, -0.4761]], grad_fn=<SelectBackward>)\n",
      "tensor([[-2.9350e+01,  6.9829e-01],\n",
      "        [-2.7669e+01,  6.1824e-01],\n",
      "        [-2.5916e+01,  6.1834e-01],\n",
      "        [-2.4357e+01,  5.5848e-01],\n",
      "        [-2.2825e+01,  5.2700e-01],\n",
      "        [-2.1702e+01,  4.6982e-01],\n",
      "        [-1.9933e+01,  5.3166e-01],\n",
      "        [-1.8591e+01,  4.0418e-01],\n",
      "        [-1.6941e+01,  4.2177e-01],\n",
      "        [-1.5494e+01,  3.2554e-01],\n",
      "        [-1.3866e+01,  3.1888e-01],\n",
      "        [-1.2298e+01,  3.3105e-01],\n",
      "        [-1.0726e+01,  2.0914e-01],\n",
      "        [-9.3659e+00,  2.3968e-01],\n",
      "        [-7.7486e+00,  1.7806e-01],\n",
      "        [-6.1332e+00,  1.8612e-01],\n",
      "        [-4.6353e+00,  7.5501e-02],\n",
      "        [-2.7170e+00,  6.0393e-02],\n",
      "        [-1.5915e+00,  3.3193e-08],\n",
      "        [ 1.0266e-05, -1.8155e-06],\n",
      "        [-1.0667e+00, -1.7961e+00],\n",
      "        [ 4.9554e-01,  1.1804e+00],\n",
      "        [-1.1465e-02,  2.0610e+00],\n",
      "        [-2.4449e+00, -2.4035e-01],\n",
      "        [ 1.6451e-01, -4.2462e-01],\n",
      "        [-1.2254e+00,  5.4537e-01],\n",
      "        [ 6.0684e-01, -9.6151e-01],\n",
      "        [ 1.1911e+00,  3.0642e-01],\n",
      "        [ 1.0456e+00,  1.6346e+00],\n",
      "        [ 8.6214e-01,  7.3366e-01],\n",
      "        [ 9.2999e-01, -2.4808e+00],\n",
      "        [-8.0437e-01,  7.9787e-01],\n",
      "        [-2.1744e+00, -1.8781e+00],\n",
      "        [-2.7978e+00,  2.4493e-01],\n",
      "        [ 7.7880e-01,  4.0553e-01],\n",
      "        [ 7.9245e-01, -2.8070e-01],\n",
      "        [-8.7166e-01, -9.3852e-01],\n",
      "        [ 2.5240e+00,  1.2371e+00],\n",
      "        [-2.9572e-01,  6.0152e-01],\n",
      "        [-3.0109e-02, -1.0615e+00],\n",
      "        [-1.1521e+00, -2.2331e+00],\n",
      "        [ 7.1913e-01,  1.9017e-01],\n",
      "        [-1.7164e+00, -1.2019e-01],\n",
      "        [-4.5691e-01,  1.4640e+00],\n",
      "        [-1.6377e+00, -4.0007e-01],\n",
      "        [-2.8624e+00, -4.2309e-01],\n",
      "        [ 2.2731e-01,  7.9353e-01],\n",
      "        [ 6.7881e-01, -2.8675e-02],\n",
      "        [ 2.8332e+00, -3.0548e-01],\n",
      "        [ 1.5167e+00, -4.7612e-01]], grad_fn=<CatBackward>)\n"
     ]
    },
    {
     "data": {
      "text/plain": [
       "<matplotlib.collections.PathCollection at 0x7fa7ed5c79e8>"
      ]
     },
     "execution_count": 13,
     "metadata": {},
     "output_type": "execute_result"
    },
    {
     "data": {
      "image/png": "[encoded data removed]",
      "text/plain": [
       "<Figure size 432x288 with 1 Axes>"
      ]
     },
     "metadata": {
      "needs_background": "light"
     },
     "output_type": "display_data"
    }
   ],
   "source": [
    "reg_a0_k0_all = torch.cat([traj_obs,reg_a0_k0])\n",
    "print(traj_obs)\n",
    "print(reg_a0_k0)\n",
    "print(reg_a0_k0_all)\n",
    "plt.scatter(reg_a0_k0_all.detach().numpy()[:,0],reg_a0_k0_all.detach().numpy()[:,1])\n",
    "\n",
    "trajs2 = data['trajs2'][0]\n",
    "plt.scatter(trajs2[0][:,0], trajs2[0][:,1])"
   ]
  },
  {
   "cell_type": "code",
   "execution_count": 19,
   "metadata": {},
   "outputs": [
    {
     "ename": "RuntimeError",
     "evalue": "Sizes of tensors must match except in dimension 0. Got 3 and 2 in dimension 1",
     "output_type": "error",
     "traceback": [
      "\u001b[0;31m---------------------------------------------------------------------------\u001b[0m",
      "\u001b[0;31mRuntimeError\u001b[0m                              Traceback (most recent call last)",
      "\u001b[0;32m/tmp/ipykernel_23812/1274470866.py\u001b[0m in \u001b[0;36m<module>\u001b[0;34m\u001b[0m\n\u001b[0;32m----> 1\u001b[0;31m \u001b[0mtrajs_allbs\u001b[0m \u001b[0;34m=\u001b[0m \u001b[0mtorch\u001b[0m\u001b[0;34m.\u001b[0m\u001b[0mcat\u001b[0m\u001b[0;34m(\u001b[0m\u001b[0;34m[\u001b[0m\u001b[0mdata\u001b[0m\u001b[0;34m[\u001b[0m\u001b[0;34m'traj1'\u001b[0m\u001b[0;34m]\u001b[0m\u001b[0;34m[\u001b[0m\u001b[0;36m0\u001b[0m\u001b[0;34m]\u001b[0m\u001b[0;34m[\u001b[0m\u001b[0;36m0\u001b[0m\u001b[0;34m]\u001b[0m\u001b[0;34m,\u001b[0m\u001b[0mout\u001b[0m\u001b[0;34m[\u001b[0m\u001b[0;34m'reg'\u001b[0m\u001b[0;34m]\u001b[0m\u001b[0;34m[\u001b[0m\u001b[0;36m0\u001b[0m\u001b[0;34m]\u001b[0m\u001b[0;34m[\u001b[0m\u001b[0;36m0\u001b[0m\u001b[0;34m]\u001b[0m\u001b[0;34m[\u001b[0m\u001b[0;36m0\u001b[0m\u001b[0;34m]\u001b[0m\u001b[0;34m]\u001b[0m\u001b[0;34m,\u001b[0m \u001b[0mdim\u001b[0m\u001b[0;34m=\u001b[0m\u001b[0;34m-\u001b[0m\u001b[0;36m2\u001b[0m\u001b[0;34m)\u001b[0m\u001b[0;34m\u001b[0m\u001b[0m\n\u001b[0m",
      "\u001b[0;31mRuntimeError\u001b[0m: Sizes of tensors must match except in dimension 0. Got 3 and 2 in dimension 1"
     ]
    }
   ],
   "source": [
    "trajs_allbs = torch.cat([data['traj1'][0][0],out['reg'][0][0][0]], dim=-2)"
   ]
  },
  {
   "cell_type": "code",
   "execution_count": 14,
   "metadata": {},
   "outputs": [],
   "source": [
    "# # transform prediction to world coordinates\n",
    "# for i in range(len(out[\"reg\"])):\n",
    "#     out[\"reg\"][i] = torch.matmul(out[\"reg\"][i], rot[i]) + orig[i].view(1, 1, 1, -1)"
   ]
  },
  {
   "cell_type": "code",
   "execution_count": 15,
   "metadata": {},
   "outputs": [],
   "source": [
    "# reg_a0_k0 = out['reg'][0][0][0]\n",
    "# print(reg_a0_k0.size())\n",
    "# print(reg_a0_k0)\n",
    "# plt.scatter(reg_a0_k0.detach().numpy()[:,0], reg_a0_k0.detach().numpy()[:,1])"
   ]
  }
 ],
 "metadata": {
  "interpreter": {
   "hash": "07e1035589aed84bd7169a62ca865480aa9cea1eaec18b5fbc2b7aab1975a44f"
  },
  "kernelspec": {
   "display_name": "Python 3.7.0 ('lanegcn')",
   "language": "python",
   "name": "python3"
  },
  "language_info": {
   "codemirror_mode": {
    "name": "ipython",
    "version": 3
   },
   "file_extension": ".py",
   "mimetype": "text/x-python",
   "name": "python",
   "nbconvert_exporter": "python",
   "pygments_lexer": "ipython3",
   "version": "3.7.0"
  },
  "orig_nbformat": 4
 },
 "nbformat": 4,
 "nbformat_minor": 2
}
